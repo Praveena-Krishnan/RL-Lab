{
 "cells": [
  {
   "cell_type": "code",
   "execution_count": 3,
   "metadata": {},
   "outputs": [
    {
     "name": "stdout",
     "output_type": "stream",
     "text": [
      "\n",
      "Episode 1\n",
      "Episode finished in 10 steps with a total reward of -55.\n",
      "Episode terminated early after reaching the maximum of 10 steps.\n",
      "\n",
      "Episode 2\n",
      "Episode finished in 10 steps with a total reward of -28.\n",
      "Episode terminated early after reaching the maximum of 10 steps.\n",
      "\n",
      "Episode 3\n",
      "Episode finished in 10 steps with a total reward of -37.\n",
      "Episode terminated early after reaching the maximum of 10 steps.\n",
      "\n",
      "Episode 4\n",
      "Episode finished in 10 steps with a total reward of -37.\n",
      "Episode terminated early after reaching the maximum of 10 steps.\n",
      "\n",
      "Episode 5\n",
      "Episode finished in 10 steps with a total reward of -64.\n",
      "Episode terminated early after reaching the maximum of 10 steps.\n"
     ]
    }
   ],
   "source": [
    "import gym\n",
    "import numpy as np\n",
    "\n",
    "# Create the Taxi-V3 environment with graphical rendering\n",
    "env = gym.make(\"Taxi-v3\", render_mode=\"human\")\n",
    "\n",
    "# Initialize the environment\n",
    "state, info = env.reset()  # Gym API now returns a tuple on reset\n",
    "\n",
    "def run_taxi_simulation(env, episodes=5, max_steps=10):\n",
    "    \"\"\"Run a simulation of the Taxi-V3 environment with a step limit.\"\"\"\n",
    "    for episode in range(episodes):\n",
    "        state, info = env.reset()  # Reset the environment for each episode\n",
    "        done = False\n",
    "        total_reward = 0\n",
    "        steps = 0\n",
    "\n",
    "        print(f\"\\nEpisode {episode + 1}\")\n",
    "        while not done and steps < max_steps:\n",
    "            # Render the environment (graphical output)\n",
    "            env.render()\n",
    "\n",
    "            # Take a random action (for demonstration purposes)\n",
    "            action = env.action_space.sample()\n",
    "            next_state, reward, done, truncated, info = env.step(action)  # Perform the action\n",
    "\n",
    "            # Update state and reward tracking\n",
    "            state = next_state\n",
    "            total_reward += reward\n",
    "            steps += 1\n",
    "\n",
    "        print(f\"Episode finished in {steps} steps with a total reward of {total_reward}.\")\n",
    "        if steps >= max_steps:\n",
    "            print(f\"Episode terminated early after reaching the maximum of {max_steps} steps.\")\n",
    "\n",
    "# Run the simulation\n",
    "run_taxi_simulation(env, episodes=5, max_steps=10)\n",
    "\n",
    "# Close the environment\n",
    "env.close()\n"
   ]
  }
 ],
 "metadata": {
  "kernelspec": {
   "display_name": "Python (myenv)",
   "language": "python",
   "name": "myenv"
  },
  "language_info": {
   "codemirror_mode": {
    "name": "ipython",
    "version": 3
   },
   "file_extension": ".py",
   "mimetype": "text/x-python",
   "name": "python",
   "nbconvert_exporter": "python",
   "pygments_lexer": "ipython3",
   "version": "3.11.4"
  }
 },
 "nbformat": 4,
 "nbformat_minor": 2
}
